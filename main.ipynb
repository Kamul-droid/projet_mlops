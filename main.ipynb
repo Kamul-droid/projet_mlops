{
 "cells": [
  {
   "cell_type": "code",
   "execution_count": 2,
   "id": "ed90afb8",
   "metadata": {},
   "outputs": [],
   "source": [
    "import requests"
   ]
  },
  {
   "cell_type": "markdown",
   "id": "744e4756",
   "metadata": {},
   "source": [
    "### Vérification de l'état du serveur"
   ]
  },
  {
   "cell_type": "code",
   "execution_count": 3,
   "id": "9f5ba531",
   "metadata": {},
   "outputs": [
    {
     "name": "stdout",
     "output_type": "stream",
     "text": [
      "Statut de l'API: 200\n",
      "Message de réponse: {'message': 'Heart Attack Data Pipeline API'}\n"
     ]
    }
   ],
   "source": [
    "response = requests.get(\"http://127.0.0.1:8000/\")\n",
    "print(\"Statut de l'API:\", response.status_code)\n",
    "print(\"Message de réponse:\", response.json())"
   ]
  },
  {
   "cell_type": "markdown",
   "id": "637194bb",
   "metadata": {},
   "source": [
    "### Lancer l'ingestion des données"
   ]
  },
  {
   "cell_type": "code",
   "execution_count": 9,
   "id": "9749f1c7",
   "metadata": {},
   "outputs": [
    {
     "name": "stdout",
     "output_type": "stream",
     "text": [
      "Ingestion des données - Statut: 200\n",
      "Ingestion des données - Message: {'message': 'Ingestion des données terminée'}\n"
     ]
    }
   ],
   "source": [
    "response = requests.post(\"http://127.0.0.1:8000/ingest\")\n",
    "print(\"Ingestion des données - Statut:\", response.status_code)\n",
    "print(\"Ingestion des données - Message:\", response.json())"
   ]
  },
  {
   "cell_type": "markdown",
   "id": "b32689c8",
   "metadata": {},
   "source": [
    "### Exécuter les contrôles de qualité sur les données"
   ]
  },
  {
   "cell_type": "code",
   "execution_count": 11,
   "id": "fc2219df",
   "metadata": {},
   "outputs": [
    {
     "name": "stdout",
     "output_type": "stream",
     "text": [
      "Contrôles de qualité - Statut: 200\n",
      "Contrôles de qualité - Contenu brut: {'message': 'Contrôles de qualité terminés', 'details': None}\n"
     ]
    }
   ],
   "source": [
    "response = requests.get(\"http://127.0.0.1:8000/quality-checks\")\n",
    "print(\"Contrôles de qualité - Statut:\", response.status_code)\n",
    "print(\"Contrôles de qualité - Contenu brut:\", response.json())"
   ]
  },
  {
   "cell_type": "markdown",
   "id": "962a72ed",
   "metadata": {},
   "source": [
    "### Récupérer et afficher les premiers enregistrements des données traitées"
   ]
  },
  {
   "cell_type": "code",
   "execution_count": 13,
   "id": "85db438a",
   "metadata": {
    "scrolled": true
   },
   "outputs": [
    {
     "name": "stdout",
     "output_type": "stream",
     "text": [
      "Récupération des données traitées - Statut: 200\n",
      "Données traitées (10 premiers enregistrements):\n",
      "[{'age': 63, 'sex': 1, 'cp': 3, 'trestbps': 145, 'chol': 233, 'fbs': 1, 'restecg': 0, 'thalach': 150, 'exang': 0, 'oldpeak': 2.3, 'slope': 0, 'ca': 0, 'thal': 1, 'target': 1}, {'age': 37, 'sex': 1, 'cp': 2, 'trestbps': 130, 'chol': 250, 'fbs': 0, 'restecg': 1, 'thalach': 187, 'exang': 0, 'oldpeak': 3.5, 'slope': 0, 'ca': 0, 'thal': 2, 'target': 1}, {'age': 41, 'sex': 0, 'cp': 1, 'trestbps': 130, 'chol': 204, 'fbs': 0, 'restecg': 0, 'thalach': 172, 'exang': 0, 'oldpeak': 1.4, 'slope': 2, 'ca': 0, 'thal': 2, 'target': 1}, {'age': 56, 'sex': 1, 'cp': 1, 'trestbps': 120, 'chol': 236, 'fbs': 0, 'restecg': 1, 'thalach': 178, 'exang': 0, 'oldpeak': 0.8, 'slope': 2, 'ca': 0, 'thal': 2, 'target': 1}, {'age': 57, 'sex': 0, 'cp': 0, 'trestbps': 120, 'chol': 354, 'fbs': 0, 'restecg': 1, 'thalach': 163, 'exang': 1, 'oldpeak': 0.6, 'slope': 2, 'ca': 0, 'thal': 2, 'target': 1}, {'age': 57, 'sex': 1, 'cp': 0, 'trestbps': 140, 'chol': 192, 'fbs': 0, 'restecg': 1, 'thalach': 148, 'exang': 0, 'oldpeak': 0.4, 'slope': 1, 'ca': 0, 'thal': 1, 'target': 1}, {'age': 56, 'sex': 0, 'cp': 1, 'trestbps': 140, 'chol': 294, 'fbs': 0, 'restecg': 0, 'thalach': 153, 'exang': 0, 'oldpeak': 1.3, 'slope': 1, 'ca': 0, 'thal': 2, 'target': 1}, {'age': 44, 'sex': 1, 'cp': 1, 'trestbps': 120, 'chol': 263, 'fbs': 0, 'restecg': 1, 'thalach': 173, 'exang': 0, 'oldpeak': 0.0, 'slope': 2, 'ca': 0, 'thal': 3, 'target': 1}, {'age': 52, 'sex': 1, 'cp': 2, 'trestbps': 172, 'chol': 199, 'fbs': 1, 'restecg': 1, 'thalach': 162, 'exang': 0, 'oldpeak': 0.5, 'slope': 2, 'ca': 0, 'thal': 3, 'target': 1}, {'age': 57, 'sex': 1, 'cp': 2, 'trestbps': 150, 'chol': 168, 'fbs': 0, 'restecg': 1, 'thalach': 174, 'exang': 0, 'oldpeak': 1.6, 'slope': 2, 'ca': 0, 'thal': 2, 'target': 1}]\n"
     ]
    }
   ],
   "source": [
    "response = requests.get(\"http://127.0.0.1:8000/data\")\n",
    "print(\"Récupération des données traitées - Statut:\", response.status_code)\n",
    "if response.status_code == 200:\n",
    "    print(\"Données traitées (10 premiers enregistrements):\")\n",
    "    print(response.json())\n",
    "else:\n",
    "    print(\"Erreur lors de la récupération des données:\", response.text)"
   ]
  },
  {
   "cell_type": "markdown",
   "id": "ea2489a1",
   "metadata": {},
   "source": [
    "### Lancer le processus de prétraitement"
   ]
  },
  {
   "cell_type": "code",
   "execution_count": 16,
   "id": "fa9b0736",
   "metadata": {},
   "outputs": [
    {
     "name": "stdout",
     "output_type": "stream",
     "text": [
      "Prétraitement des données - Statut: 200\n",
      "Prétraitement des données - Message: {'message': 'Prétraitement terminé avec succès.'}\n"
     ]
    }
   ],
   "source": [
    "response = requests.post(\"http://127.0.0.1:8000/preprocess\")\n",
    "print(\"Prétraitement des données - Statut:\", response.status_code)\n",
    "print(\"Prétraitement des données - Message:\", response.json())"
   ]
  },
  {
   "cell_type": "code",
   "execution_count": 4,
   "id": "ec58e865",
   "metadata": {},
   "outputs": [
    {
     "data": {
      "text/html": [
       "<div>\n",
       "<style scoped>\n",
       "    .dataframe tbody tr th:only-of-type {\n",
       "        vertical-align: middle;\n",
       "    }\n",
       "\n",
       "    .dataframe tbody tr th {\n",
       "        vertical-align: top;\n",
       "    }\n",
       "\n",
       "    .dataframe thead th {\n",
       "        text-align: right;\n",
       "    }\n",
       "</style>\n",
       "<table border=\"1\" class=\"dataframe\">\n",
       "  <thead>\n",
       "    <tr style=\"text-align: right;\">\n",
       "      <th></th>\n",
       "      <th>age</th>\n",
       "      <th>sex</th>\n",
       "      <th>cp</th>\n",
       "      <th>trestbps</th>\n",
       "      <th>chol</th>\n",
       "      <th>fbs</th>\n",
       "      <th>restecg</th>\n",
       "      <th>thalach</th>\n",
       "      <th>exang</th>\n",
       "      <th>oldpeak</th>\n",
       "      <th>slope</th>\n",
       "      <th>ca</th>\n",
       "      <th>thal</th>\n",
       "      <th>target</th>\n",
       "    </tr>\n",
       "  </thead>\n",
       "  <tbody>\n",
       "    <tr>\n",
       "      <th>0</th>\n",
       "      <td>63</td>\n",
       "      <td>1</td>\n",
       "      <td>3</td>\n",
       "      <td>145</td>\n",
       "      <td>233</td>\n",
       "      <td>1</td>\n",
       "      <td>0</td>\n",
       "      <td>150</td>\n",
       "      <td>0</td>\n",
       "      <td>2.3</td>\n",
       "      <td>0</td>\n",
       "      <td>0</td>\n",
       "      <td>1</td>\n",
       "      <td>1</td>\n",
       "    </tr>\n",
       "    <tr>\n",
       "      <th>1</th>\n",
       "      <td>37</td>\n",
       "      <td>1</td>\n",
       "      <td>2</td>\n",
       "      <td>130</td>\n",
       "      <td>250</td>\n",
       "      <td>0</td>\n",
       "      <td>1</td>\n",
       "      <td>187</td>\n",
       "      <td>0</td>\n",
       "      <td>3.5</td>\n",
       "      <td>0</td>\n",
       "      <td>0</td>\n",
       "      <td>2</td>\n",
       "      <td>1</td>\n",
       "    </tr>\n",
       "  </tbody>\n",
       "</table>\n",
       "</div>"
      ],
      "text/plain": [
       "   age  sex  cp  trestbps  chol  fbs  restecg  thalach  exang  oldpeak  slope  \\\n",
       "0   63    1   3       145   233    1        0      150      0      2.3      0   \n",
       "1   37    1   2       130   250    0        1      187      0      3.5      0   \n",
       "\n",
       "   ca  thal  target  \n",
       "0   0     1       1  \n",
       "1   0     2       1  "
      ]
     },
     "execution_count": 4,
     "metadata": {},
     "output_type": "execute_result"
    }
   ],
   "source": [
    "import pandas as pd\n",
    "\n",
    "dff = pd.read_csv(\"data/heart.csv\")\n",
    "dff.head(2)"
   ]
  },
  {
   "cell_type": "code",
   "execution_count": null,
   "id": "8796334b-c03d-44f8-8e83-02bc11f563b0",
   "metadata": {},
   "outputs": [],
   "source": []
  }
 ],
 "metadata": {
  "kernelspec": {
   "display_name": "Python 3 (ipykernel)",
   "language": "python",
   "name": "python3"
  },
  "language_info": {
   "codemirror_mode": {
    "name": "ipython",
    "version": 3
   },
   "file_extension": ".py",
   "mimetype": "text/x-python",
   "name": "python",
   "nbconvert_exporter": "python",
   "pygments_lexer": "ipython3",
   "version": "3.11.1"
  },
  "widgets": {
   "application/vnd.jupyter.widget-state+json": {
    "state": {},
    "version_major": 2,
    "version_minor": 0
   }
  }
 },
 "nbformat": 4,
 "nbformat_minor": 5
}
