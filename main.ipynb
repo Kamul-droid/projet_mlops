{
 "cells": [
  {
   "cell_type": "code",
   "execution_count": 1,
   "id": "9a16961e-3d20-4af6-bada-0ea5f3c84a15",
   "metadata": {},
   "outputs": [],
   "source": [
    "import requests"
   ]
  },
  {
   "cell_type": "markdown",
   "id": "a4c92d7b-bb59-4e73-a3ef-36e0530c51f4",
   "metadata": {},
   "source": [
    "### Vérification de l'état du serveur"
   ]
  },
  {
   "cell_type": "code",
   "execution_count": 2,
   "id": "291602b3-2bb8-458f-a08e-8436c90981ef",
   "metadata": {},
   "outputs": [
    {
     "name": "stdout",
     "output_type": "stream",
     "text": [
      "Statut de l'API: 200\n",
      "Message de réponse: {'message': 'Heart Attack Data Pipeline API'}\n"
     ]
    }
   ],
   "source": [
    "response = requests.get(\"http://127.0.0.1:8000/\")\n",
    "print(\"Statut de l'API:\", response.status_code)\n",
    "print(\"Message de réponse:\", response.json())"
   ]
  },
  {
   "cell_type": "markdown",
   "id": "6969c329-40b9-4aec-b889-af228c001373",
   "metadata": {},
   "source": [
    "### Lancer l'ingestion des données"
   ]
  },
  {
   "cell_type": "code",
   "execution_count": 3,
   "id": "ad58f454-cc76-44db-8875-49c49a1437b5",
   "metadata": {},
   "outputs": [
    {
     "name": "stdout",
     "output_type": "stream",
     "text": [
      "Ingestion des données - Statut: 200\n",
      "Ingestion des données - Message: {'message': 'Ingestion des données terminée'}\n"
     ]
    }
   ],
   "source": [
    "response = requests.post(\"http://127.0.0.1:8000/ingest\")\n",
    "print(\"Ingestion des données - Statut:\", response.status_code)\n",
    "print(\"Ingestion des données - Message:\", response.json())"
   ]
  },
  {
   "cell_type": "markdown",
   "id": "8ce6aed3-11a8-4d76-a997-3891a301191a",
   "metadata": {},
   "source": [
    "### Exécuter les contrôles de qualité sur les données"
   ]
  },
  {
   "cell_type": "code",
   "execution_count": 4,
   "id": "71cea22c-020c-4e6f-bad9-0dce70f10227",
   "metadata": {},
   "outputs": [
    {
     "name": "stdout",
     "output_type": "stream",
     "text": [
      "Contrôles de qualité - Statut: 200\n",
      "Contrôles de qualité - Contenu brut: {'message': 'Contrôles de qualité terminés', 'details': None}\n"
     ]
    }
   ],
   "source": [
    "response = requests.get(\"http://127.0.0.1:8000/quality-checks\")\n",
    "print(\"Contrôles de qualité - Statut:\", response.status_code)\n",
    "print(\"Contrôles de qualité - Contenu brut:\", response.json())"
   ]
  },
  {
   "cell_type": "markdown",
   "id": "95153058-739f-4f69-a095-f85582868722",
   "metadata": {},
   "source": [
    "### Récupérer et afficher les premiers enregistrements des données traitées"
   ]
  },
  {
   "cell_type": "code",
   "execution_count": 5,
   "id": "28e5b1e9-b64f-4388-9fb6-054fcedaa46a",
   "metadata": {
    "scrolled": true
   },
   "outputs": [
    {
     "name": "stdout",
     "output_type": "stream",
     "text": [
      "Récupération des données traitées - Statut: 200\n",
      "Données traitées (10 premiers enregistrements):\n",
      "[{'age': 63, 'sex': 1, 'cp': 3, 'trestbps': 145, 'chol': 233, 'fbs': 1, 'restecg': 0, 'thalach': 150, 'exang': 0, 'oldpeak': 2.3, 'slope': 0, 'ca': 0, 'thal': 1, 'target': 1}, {'age': 37, 'sex': 1, 'cp': 2, 'trestbps': 130, 'chol': 250, 'fbs': 0, 'restecg': 1, 'thalach': 187, 'exang': 0, 'oldpeak': 3.5, 'slope': 0, 'ca': 0, 'thal': 2, 'target': 1}, {'age': 41, 'sex': 0, 'cp': 1, 'trestbps': 130, 'chol': 204, 'fbs': 0, 'restecg': 0, 'thalach': 172, 'exang': 0, 'oldpeak': 1.4, 'slope': 2, 'ca': 0, 'thal': 2, 'target': 1}, {'age': 56, 'sex': 1, 'cp': 1, 'trestbps': 120, 'chol': 236, 'fbs': 0, 'restecg': 1, 'thalach': 178, 'exang': 0, 'oldpeak': 0.8, 'slope': 2, 'ca': 0, 'thal': 2, 'target': 1}, {'age': 57, 'sex': 0, 'cp': 0, 'trestbps': 120, 'chol': 354, 'fbs': 0, 'restecg': 1, 'thalach': 163, 'exang': 1, 'oldpeak': 0.6, 'slope': 2, 'ca': 0, 'thal': 2, 'target': 1}, {'age': 57, 'sex': 1, 'cp': 0, 'trestbps': 140, 'chol': 192, 'fbs': 0, 'restecg': 1, 'thalach': 148, 'exang': 0, 'oldpeak': 0.4, 'slope': 1, 'ca': 0, 'thal': 1, 'target': 1}, {'age': 56, 'sex': 0, 'cp': 1, 'trestbps': 140, 'chol': 294, 'fbs': 0, 'restecg': 0, 'thalach': 153, 'exang': 0, 'oldpeak': 1.3, 'slope': 1, 'ca': 0, 'thal': 2, 'target': 1}, {'age': 44, 'sex': 1, 'cp': 1, 'trestbps': 120, 'chol': 263, 'fbs': 0, 'restecg': 1, 'thalach': 173, 'exang': 0, 'oldpeak': 0.0, 'slope': 2, 'ca': 0, 'thal': 3, 'target': 1}, {'age': 52, 'sex': 1, 'cp': 2, 'trestbps': 172, 'chol': 199, 'fbs': 1, 'restecg': 1, 'thalach': 162, 'exang': 0, 'oldpeak': 0.5, 'slope': 2, 'ca': 0, 'thal': 3, 'target': 1}, {'age': 57, 'sex': 1, 'cp': 2, 'trestbps': 150, 'chol': 168, 'fbs': 0, 'restecg': 1, 'thalach': 174, 'exang': 0, 'oldpeak': 1.6, 'slope': 2, 'ca': 0, 'thal': 2, 'target': 1}]\n"
     ]
    }
   ],
   "source": [
    "response = requests.get(\"http://127.0.0.1:8000/data\")\n",
    "print(\"Récupération des données traitées - Statut:\", response.status_code)\n",
    "if response.status_code == 200:\n",
    "    print(\"Données traitées (10 premiers enregistrements):\")\n",
    "    print(response.json())\n",
    "else:\n",
    "    print(\"Erreur lors de la récupération des données:\", response.text)"
   ]
  },
  {
   "cell_type": "markdown",
   "id": "e424dd9f-157f-4409-bccc-8fcade9fb82f",
   "metadata": {},
   "source": [
    "### Lancer le processus de prétraitement"
   ]
  },
  {
   "cell_type": "code",
   "execution_count": 6,
   "id": "4f4f5d2f-9467-478a-874d-2457ef6790bf",
   "metadata": {},
   "outputs": [
    {
     "name": "stdout",
     "output_type": "stream",
     "text": [
      "Prétraitement des données - Statut: 200\n",
      "Prétraitement des données - Message: {'message': 'Prétraitement terminé avec succès.'}\n"
     ]
    }
   ],
   "source": [
    "response = requests.post(\"http://127.0.0.1:8000/preprocess\")\n",
    "print(\"Prétraitement des données - Statut:\", response.status_code)\n",
    "print(\"Prétraitement des données - Message:\", response.json())"
   ]
  },
  {
   "cell_type": "code",
   "execution_count": null,
   "id": "52bea679-9f36-48ac-bc3c-3028ed4d7870",
   "metadata": {},
   "outputs": [],
   "source": []
  }
 ],
 "metadata": {
  "kernelspec": {
   "display_name": "Python 3 (ipykernel)",
   "language": "python",
   "name": "python3"
  },
  "language_info": {
   "codemirror_mode": {
    "name": "ipython",
    "version": 3
   },
   "file_extension": ".py",
   "mimetype": "text/x-python",
   "name": "python",
   "nbconvert_exporter": "python",
   "pygments_lexer": "ipython3",
   "version": "3.12.3"
  },
  "widgets": {
   "application/vnd.jupyter.widget-state+json": {
    "state": {},
    "version_major": 2,
    "version_minor": 0
   }
  }
 },
 "nbformat": 4,
 "nbformat_minor": 5
}
