import requests





response = requests.get("http://127.0.0.1:8000/")
print("Statut de l'API:", response.status_code)
print("Message de réponse:", response.json())





response = requests.post("http://127.0.0.1:8000/ingest")
print("Ingestion des données - Statut:", response.status_code)
print("Ingestion des données - Message:", response.json())





response = requests.get("http://127.0.0.1:8000/quality-checks")
print("Contrôles de qualité - Statut:", response.status_code)
print("Contrôles de qualité - Contenu brut:", response.json())





response = requests.get("http://127.0.0.1:8000/data")
print("Récupération des données traitées - Statut:", response.status_code)
if response.status_code == 200:
    print("Données traitées (10 premiers enregistrements):")
    print(response.json())
else:
    print("Erreur lors de la récupération des données:", response.text)





response = requests.post("http://127.0.0.1:8000/preprocess")
print("Prétraitement des données - Statut:", response.status_code)
print("Prétraitement des données - Message:", response.json())



